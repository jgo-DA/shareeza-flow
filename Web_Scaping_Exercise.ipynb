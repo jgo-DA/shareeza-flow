{
  "nbformat": 4,
  "nbformat_minor": 0,
  "metadata": {
    "colab": {
      "name": "Web Scaping Exercise.ipynb",
      "provenance": [],
      "authorship_tag": "ABX9TyOqRI7aMiksqun3QG37X8ym",
      "include_colab_link": true
    },
    "kernelspec": {
      "name": "python3",
      "display_name": "Python 3"
    }
  },
  "cells": [
    {
      "cell_type": "markdown",
      "metadata": {
        "id": "view-in-github",
        "colab_type": "text"
      },
      "source": [
        "<a href=\"https://colab.research.google.com/github/jgo-DA/shareeza-flow/blob/master/Web_Scaping_Exercise.ipynb\" target=\"_parent\"><img src=\"https://colab.research.google.com/assets/colab-badge.svg\" alt=\"Open In Colab\"/></a>"
      ]
    },
    {
      "cell_type": "markdown",
      "metadata": {
        "id": "MJlvSHgzaStO",
        "colab_type": "text"
      },
      "source": [
        "# Intro to Web Scraping with Python and Beautiful Soup\n",
        "https://www.youtube.com/watch?v=XQgXKtPSzUI"
      ]
    },
    {
      "cell_type": "code",
      "metadata": {
        "id": "bVNn-VptaOAs",
        "colab_type": "code",
        "colab": {}
      },
      "source": [
        "# Libraries\n",
        "from bs4 import BeautifulSoup as soup\n",
        "from urllib.request import urlopen as uReq\n",
        "# or import requests"
      ],
      "execution_count": null,
      "outputs": []
    }
  ]
}